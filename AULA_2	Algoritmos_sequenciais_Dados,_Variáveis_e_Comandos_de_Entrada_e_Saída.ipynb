{
  "nbformat": 4,
  "nbformat_minor": 0,
  "metadata": {
    "colab": {
      "provenance": [],
      "toc_visible": true,
      "authorship_tag": "ABX9TyMhcyt4E58jTtdGV2YzifCx",
      "include_colab_link": true
    },
    "kernelspec": {
      "name": "python3",
      "display_name": "Python 3"
    },
    "language_info": {
      "name": "python"
    }
  },
  "cells": [
    {
      "cell_type": "markdown",
      "metadata": {
        "id": "view-in-github",
        "colab_type": "text"
      },
      "source": [
        "<a href=\"https://colab.research.google.com/github/Raquelcorreas2/L-gica-de-progra-o/blob/main/AULA_2%09Algoritmos_sequenciais_Dados%2C_Vari%C3%A1veis_e_Comandos_de_Entrada_e_Sa%C3%ADda.ipynb\" target=\"_parent\"><img src=\"https://colab.research.google.com/assets/colab-badge.svg\" alt=\"Open In Colab\"/></a>"
      ]
    },
    {
      "cell_type": "markdown",
      "source": [
        "2. Ciclo de Processamento de dados"
      ],
      "metadata": {
        "id": "nWZQkzG2ci8n"
      }
    },
    {
      "cell_type": "markdown",
      "source": [
        "**O primeiro programa!**"
      ],
      "metadata": {
        "id": "Uk2NAJWAdpMe"
      }
    },
    {
      "cell_type": "code",
      "source": [
        "from google.colab import drive\n",
        "drive.mount('/content/drive')"
      ],
      "metadata": {
        "id": "6NnkiZmXWQmA"
      },
      "execution_count": null,
      "outputs": []
    },
    {
      "cell_type": "code",
      "execution_count": null,
      "metadata": {
        "colab": {
          "base_uri": "https://localhost:8080/"
        },
        "id": "lIu-PpbccATN",
        "outputId": "9e88304e-c754-49f7-8879-e41919de9487"
      },
      "outputs": [
        {
          "output_type": "stream",
          "name": "stdout",
          "text": [
            "olá mundo\n"
          ]
        }
      ],
      "source": [
        "print(\"olá mundo\")"
      ]
    },
    {
      "cell_type": "markdown",
      "source": [
        "**Função de Saída**"
      ],
      "metadata": {
        "id": "5lKKtXCudzRk"
      }
    },
    {
      "cell_type": "markdown",
      "source": [
        "*Operações aritiméticas*"
      ],
      "metadata": {
        "id": "gszGPff2fMMO"
      }
    },
    {
      "cell_type": "code",
      "source": [
        "print(2+3)"
      ],
      "metadata": {
        "colab": {
          "base_uri": "https://localhost:8080/"
        },
        "id": "60EfBoKafSUO",
        "outputId": "94a5ed90-cc42-411f-c182-d3d61c2d998e"
      },
      "execution_count": null,
      "outputs": [
        {
          "output_type": "stream",
          "name": "stdout",
          "text": [
            "5\n"
          ]
        }
      ]
    },
    {
      "cell_type": "markdown",
      "source": [
        "*Strings*"
      ],
      "metadata": {
        "id": "MVbGBa_2fien"
      }
    },
    {
      "cell_type": "code",
      "source": [
        "print('2+3')"
      ],
      "metadata": {
        "colab": {
          "base_uri": "https://localhost:8080/"
        },
        "id": "MDn0ZuqefpDy",
        "outputId": "61332a20-a59e-485f-f40f-694e032eb5eb"
      },
      "execution_count": null,
      "outputs": [
        {
          "output_type": "stream",
          "name": "stdout",
          "text": [
            "2+3\n"
          ]
        }
      ]
    },
    {
      "cell_type": "markdown",
      "source": [
        "*Concatenação:*"
      ],
      "metadata": {
        "id": "_fEKVChRf-OJ"
      }
    },
    {
      "cell_type": "code",
      "source": [
        "print('2' + '3')"
      ],
      "metadata": {
        "colab": {
          "base_uri": "https://localhost:8080/"
        },
        "id": "kuWF3fOTgB84",
        "outputId": "27ce35bb-6b70-484d-86bb-4864160e1ad7"
      },
      "execution_count": null,
      "outputs": [
        {
          "output_type": "stream",
          "name": "stdout",
          "text": [
            "23\n"
          ]
        }
      ]
    },
    {
      "cell_type": "markdown",
      "source": [
        "*Concatenando mensagens:*"
      ],
      "metadata": {
        "id": "z1Gp_UKNgJ5H"
      }
    },
    {
      "cell_type": "code",
      "source": [
        "print('Olá, ' + 'mundo!')\n",
        "print('Olá,','mundo!')"
      ],
      "metadata": {
        "colab": {
          "base_uri": "https://localhost:8080/"
        },
        "id": "7c6hbbxNgOO_",
        "outputId": "894b29d2-3ab1-4828-d500-f171e23749bc"
      },
      "execution_count": null,
      "outputs": [
        {
          "output_type": "stream",
          "name": "stdout",
          "text": [
            "Olá, mundo!\n",
            "Olá, mundo!\n"
          ]
        }
      ]
    },
    {
      "cell_type": "markdown",
      "source": [
        "*Concatenando mensagens e números:*"
      ],
      "metadata": {
        "id": "WQfGEYsHgmqv"
      }
    },
    {
      "cell_type": "code",
      "source": [
        "print('O resultado da soma de 2 + 3 é:', 2 + 3)"
      ],
      "metadata": {
        "colab": {
          "base_uri": "https://localhost:8080/"
        },
        "id": "KK2grnHygmSI",
        "outputId": "1d3582fb-3428-4d3b-c7be-244dc73e21e7"
      },
      "execution_count": null,
      "outputs": [
        {
          "output_type": "stream",
          "name": "stdout",
          "text": [
            "O resultado da soma de 2 + 3 é: 5\n"
          ]
        }
      ]
    },
    {
      "cell_type": "markdown",
      "source": [
        "**Operadores e operações matemáticas**"
      ],
      "metadata": {
        "id": "qnCTWGGshPKS"
      }
    },
    {
      "cell_type": "code",
      "source": [
        "print(10*(5+7)/4)"
      ],
      "metadata": {
        "colab": {
          "base_uri": "https://localhost:8080/"
        },
        "id": "kctb1mFnhTQT",
        "outputId": "880e7a1f-f4f1-48ba-b05c-f5143fcfd0df"
      },
      "execution_count": null,
      "outputs": [
        {
          "output_type": "stream",
          "name": "stdout",
          "text": [
            "30.0\n"
          ]
        }
      ]
    },
    {
      "cell_type": "markdown",
      "source": [
        "*Cuidado!*"
      ],
      "metadata": {
        "id": "SZKWUcb7hd0q"
      }
    },
    {
      "cell_type": "code",
      "source": [
        "print(10*(5+7/4))"
      ],
      "metadata": {
        "colab": {
          "base_uri": "https://localhost:8080/"
        },
        "id": "IPAfocKChhP6",
        "outputId": "00950fdd-9f34-4ac5-913e-a73a7336164f"
      },
      "execution_count": null,
      "outputs": [
        {
          "output_type": "stream",
          "name": "stdout",
          "text": [
            "67.5\n"
          ]
        }
      ]
    },
    {
      "cell_type": "markdown",
      "source": [
        "**3. Variáveis, dados e seus tipos**"
      ],
      "metadata": {
        "id": "ifCjaROmht1Z"
      }
    },
    {
      "cell_type": "code",
      "source": [
        "nota = 8.5\n",
        "disciplina = 'lógica de programação e Algoritimos'\n",
        "\n",
        "print(nota)\n",
        "print(disciplina)"
      ],
      "metadata": {
        "colab": {
          "base_uri": "https://localhost:8080/"
        },
        "id": "sSIbYIdxhzyq",
        "outputId": "406f2cb1-9dfc-4e34-dc6b-90e1a545ce1c"
      },
      "execution_count": null,
      "outputs": [
        {
          "output_type": "stream",
          "name": "stdout",
          "text": [
            "8.5\n",
            "lógica de programação e Algoritimos\n"
          ]
        }
      ]
    },
    {
      "cell_type": "code",
      "source": [
        "print('disciplina: ', disciplina, 'nota:', nota)"
      ],
      "metadata": {
        "colab": {
          "base_uri": "https://localhost:8080/"
        },
        "id": "Sp2n_K27jUtH",
        "outputId": "ebf6a63d-46dc-4734-c78e-34e849b1c034"
      },
      "execution_count": null,
      "outputs": [
        {
          "output_type": "stream",
          "name": "stdout",
          "text": [
            "disciplina:  lógica de programação e Algoritimos nota: 8.5\n"
          ]
        }
      ]
    },
    {
      "cell_type": "markdown",
      "source": [
        "**Variáveis lógicas**"
      ],
      "metadata": {
        "id": "tEyLntf-jkMe"
      }
    },
    {
      "cell_type": "code",
      "source": [
        "a = 1 #a redebe 1\n",
        "b = 5 #b recebe 5"
      ],
      "metadata": {
        "id": "6kUFnK0tjoGh"
      },
      "execution_count": null,
      "outputs": []
    },
    {
      "cell_type": "code",
      "source": [
        "resposta = a == b\n",
        "print(resposta)"
      ],
      "metadata": {
        "colab": {
          "base_uri": "https://localhost:8080/"
        },
        "id": "rjugbT4alSRi",
        "outputId": "66b3d84c-05a2-42da-968a-82352b4b69c4"
      },
      "execution_count": null,
      "outputs": [
        {
          "output_type": "stream",
          "name": "stdout",
          "text": [
            "False\n"
          ]
        }
      ]
    },
    {
      "cell_type": "code",
      "source": [
        "resposta = a != b\n",
        "print(resposta)"
      ],
      "metadata": {
        "colab": {
          "base_uri": "https://localhost:8080/"
        },
        "id": "bSW3rQ6Blbhl",
        "outputId": "c6cef1f1-36f7-45f3-d528-5865542c4b13"
      },
      "execution_count": null,
      "outputs": [
        {
          "output_type": "stream",
          "name": "stdout",
          "text": [
            "True\n"
          ]
        }
      ]
    },
    {
      "cell_type": "markdown",
      "source": [
        "**Variável String**"
      ],
      "metadata": {
        "id": "InoTBlMRlibu"
      }
    },
    {
      "cell_type": "code",
      "source": [
        "frase = 'olá mundo'\n",
        "print(frase)"
      ],
      "metadata": {
        "colab": {
          "base_uri": "https://localhost:8080/"
        },
        "id": "LESWh-LZmj6I",
        "outputId": "d671db9e-a4fa-4cf3-8d24-d2c56ed42897"
      },
      "execution_count": null,
      "outputs": [
        {
          "output_type": "stream",
          "name": "stdout",
          "text": [
            "olá mundo\n"
          ]
        }
      ]
    },
    {
      "cell_type": "markdown",
      "source": [
        "*acessando o índice*"
      ],
      "metadata": {
        "id": "3ZasRVPMmpND"
      }
    },
    {
      "cell_type": "code",
      "source": [
        "print(frase[0])\n",
        "print(frase[2])"
      ],
      "metadata": {
        "colab": {
          "base_uri": "https://localhost:8080/"
        },
        "id": "l5Jz9Ge0mvD1",
        "outputId": "1794c415-1db7-4e67-f427-978eae40f054"
      },
      "execution_count": null,
      "outputs": [
        {
          "output_type": "stream",
          "name": "stdout",
          "text": [
            "o\n",
            "á\n"
          ]
        }
      ]
    },
    {
      "cell_type": "markdown",
      "source": [
        "**4. Manipulações avançadas com strings**"
      ],
      "metadata": {
        "id": "_CAWYaj4LVqY"
      }
    },
    {
      "cell_type": "markdown",
      "source": [
        "**Concatenação**"
      ],
      "metadata": {
        "id": "QutGaf6DLusQ"
      }
    },
    {
      "cell_type": "code",
      "source": [
        "s1 = 'lógica de programação'\n",
        "s1 = s1 + ' e algoritmos'\n",
        "print(s1)"
      ],
      "metadata": {
        "colab": {
          "base_uri": "https://localhost:8080/"
        },
        "id": "aRSNL9zELdj0",
        "outputId": "afd30277-3c09-44dd-9718-6c812f27f7cb"
      },
      "execution_count": null,
      "outputs": [
        {
          "output_type": "stream",
          "name": "stdout",
          "text": [
            "lógica de programação e algoritmos\n"
          ]
        }
      ]
    },
    {
      "cell_type": "markdown",
      "source": [
        "**Repetindo strings na concatenação**"
      ],
      "metadata": {
        "id": "dXew1dHFMBVG"
      }
    },
    {
      "cell_type": "code",
      "source": [
        "s1 = 'A' + '-' * 10 + 'B'\n",
        "print(s1)"
      ],
      "metadata": {
        "colab": {
          "base_uri": "https://localhost:8080/"
        },
        "id": "DstgB3NpMFK4",
        "outputId": "3a9157b1-8534-454e-8f61-3d234cca35c3"
      },
      "execution_count": null,
      "outputs": [
        {
          "output_type": "stream",
          "name": "stdout",
          "text": [
            "A----------B\n"
          ]
        }
      ]
    },
    {
      "cell_type": "markdown",
      "source": [
        "**Composição**"
      ],
      "metadata": {
        "id": "C78XhW7uMQm6"
      }
    },
    {
      "cell_type": "code",
      "source": [
        "nota = 8.5\n",
        "s1 = 'Você tirou %f na disciplina de Algoritmos' % nota\n",
        "print(s1)"
      ],
      "metadata": {
        "colab": {
          "base_uri": "https://localhost:8080/"
        },
        "id": "RMjgOhJOMTuj",
        "outputId": "6d781f3f-1db8-46d3-cf10-ccc982f56abf"
      },
      "execution_count": null,
      "outputs": [
        {
          "output_type": "stream",
          "name": "stdout",
          "text": [
            "Você tirou 8.500000 na disciplina de Algoritmos\n"
          ]
        }
      ]
    },
    {
      "cell_type": "markdown",
      "source": [
        "**Limitando as casas decimais **"
      ],
      "metadata": {
        "id": "M2_JUnGjNGLL"
      }
    },
    {
      "cell_type": "code",
      "source": [
        "nota = 8.5\n",
        "s1 = 'Você tirou %.2f na disciplina de Algoritmos' % nota  ## Duas casas decimais (%.2f)\n",
        "s2 = 'Você tirou %.1f na disciplina de Algoritmos' % nota ## Uma casa decimal (%.1f)\n",
        "print(s1)\n",
        "print(s2)\n"
      ],
      "metadata": {
        "colab": {
          "base_uri": "https://localhost:8080/"
        },
        "id": "j3WzL_okNJTA",
        "outputId": "50164596-7f3a-46fb-df76-be8299a513b6"
      },
      "execution_count": null,
      "outputs": [
        {
          "output_type": "stream",
          "name": "stdout",
          "text": [
            "Você tirou 8.50 na disciplina de Algoritmos\n",
            "Você tirou 8.5 na disciplina de Algoritmos\n"
          ]
        }
      ]
    },
    {
      "cell_type": "markdown",
      "source": [
        "**Várias variáveis:**"
      ],
      "metadata": {
        "id": "kgbLcchhN_WT"
      }
    },
    {
      "cell_type": "code",
      "source": [
        "nota = 8.5\n",
        "disciplina = 'Algoritmos'\n",
        "s1 = 'Você tirou %.2f na disciplina de %s' % (nota, disciplina) ## Colocar entre () em ordem em que as variáveis aparecem ##\n",
        "print(s1)"
      ],
      "metadata": {
        "colab": {
          "base_uri": "https://localhost:8080/"
        },
        "id": "UH2xQKY1OC-H",
        "outputId": "cf03100f-cd37-4aa4-e5b2-a06ea70c4e6d"
      },
      "execution_count": null,
      "outputs": [
        {
          "output_type": "stream",
          "name": "stdout",
          "text": [
            "Você tirou 8.50 na disciplina de Algoritmos\n"
          ]
        }
      ]
    },
    {
      "cell_type": "markdown",
      "source": [
        "**Composição moderna**"
      ],
      "metadata": {
        "id": "567ItYRQPCa8"
      }
    },
    {
      "cell_type": "code",
      "source": [
        "nota = 8.5\n",
        "disciplina = 'Algoritimos'\n",
        "s1 = 'Você tirou {} na disciplina de {}' .format(nota, disciplina) ## Colocar as variáveis na ordem quem que elas devem aparecer\n",
        "print(s1)"
      ],
      "metadata": {
        "colab": {
          "base_uri": "https://localhost:8080/"
        },
        "id": "pDUlvHRRPHfW",
        "outputId": "995e1f67-ad69-461a-c465-8d67f62765e9"
      },
      "execution_count": null,
      "outputs": [
        {
          "output_type": "stream",
          "name": "stdout",
          "text": [
            "Você tirou 8.5 na disciplina de Algoritimos\n"
          ]
        }
      ]
    },
    {
      "cell_type": "markdown",
      "source": [
        "**Fatiamento:**"
      ],
      "metadata": {
        "id": "b49ZscypPuUd"
      }
    },
    {
      "cell_type": "code",
      "source": [
        "s1 = 'Lógica de programação e Algoritmos'\n",
        "print(s1[0:6])"
      ],
      "metadata": {
        "colab": {
          "base_uri": "https://localhost:8080/"
        },
        "id": "XUMpRSxVPwar",
        "outputId": "a9b76fff-6821-4f8d-b887-66f764c6dd3c"
      },
      "execution_count": null,
      "outputs": [
        {
          "output_type": "stream",
          "name": "stdout",
          "text": [
            "Lógica\n"
          ]
        }
      ]
    },
    {
      "cell_type": "code",
      "source": [
        "s1 = 'Lógica de programação e Algoritmos'\n",
        "print(s1[24:34])"
      ],
      "metadata": {
        "colab": {
          "base_uri": "https://localhost:8080/"
        },
        "id": "vRC-pxr8QPI-",
        "outputId": "cd96932d-ce4d-4d01-99d5-dddc26a467c8"
      },
      "execution_count": null,
      "outputs": [
        {
          "output_type": "stream",
          "name": "stdout",
          "text": [
            "Algoritmos\n"
          ]
        }
      ]
    },
    {
      "cell_type": "code",
      "source": [
        "s1 = 'Lógica de programação de Algoritmos'\n",
        "print(s1[:6])"
      ],
      "metadata": {
        "colab": {
          "base_uri": "https://localhost:8080/"
        },
        "id": "nauWqrfvQX1W",
        "outputId": "0580a578-b009-4972-dc9f-4427470fdd48"
      },
      "execution_count": null,
      "outputs": [
        {
          "output_type": "stream",
          "name": "stdout",
          "text": [
            "Lógica\n"
          ]
        }
      ]
    },
    {
      "cell_type": "markdown",
      "source": [
        "**Tamanho (length)**"
      ],
      "metadata": {
        "id": "lbsYlMLHQ0W3"
      }
    },
    {
      "cell_type": "code",
      "source": [
        "s1 = 'Lógica de programação e Algoritmos'\n",
        "tamanho = len(s1)\n",
        "print(tamanho)"
      ],
      "metadata": {
        "colab": {
          "base_uri": "https://localhost:8080/"
        },
        "id": "SwP2In67Q5z1",
        "outputId": "3cdaffff-de4c-4897-8f16-25d3c9e48977"
      },
      "execution_count": null,
      "outputs": [
        {
          "output_type": "stream",
          "name": "stdout",
          "text": [
            "34\n"
          ]
        }
      ]
    },
    {
      "cell_type": "markdown",
      "source": [
        "**5. Função de entrada e fluxo de execução do programa**"
      ],
      "metadata": {
        "id": "gbrnKs_mRVWQ"
      }
    },
    {
      "cell_type": "markdown",
      "source": [
        "**Função de entrada**"
      ],
      "metadata": {
        "id": "Vh4Z8aQPR5G_"
      }
    },
    {
      "cell_type": "code",
      "source": [
        "idade = input('Qual sua idade? ')\n",
        "print(idade)"
      ],
      "metadata": {
        "colab": {
          "base_uri": "https://localhost:8080/"
        },
        "id": "7XXFEp51R7S4",
        "outputId": "f884ca5a-3c8c-439a-84d2-2772d08a7a0e"
      },
      "execution_count": null,
      "outputs": [
        {
          "output_type": "stream",
          "name": "stdout",
          "text": [
            "Qual sua idade? 28\n",
            "28\n"
          ]
        }
      ]
    },
    {
      "cell_type": "code",
      "source": [
        "nome = input('Qual seu nome? ')\n",
        "print('Olá {}, seja bem vindo' .format(nome))"
      ],
      "metadata": {
        "colab": {
          "base_uri": "https://localhost:8080/"
        },
        "id": "Y9F6GtoRSFxX",
        "outputId": "f3914240-0417-4b98-94bd-115f0883cfb9"
      },
      "execution_count": null,
      "outputs": [
        {
          "output_type": "stream",
          "name": "stdout",
          "text": [
            "Qual seu nome? Raquel\n",
            "Olá Raquel, seja bem vindo\n"
          ]
        }
      ]
    },
    {
      "cell_type": "markdown",
      "source": [
        "**Convertendo dados de entrada**"
      ],
      "metadata": {
        "id": "1sDCPsa_Sp2Q"
      }
    },
    {
      "cell_type": "code",
      "source": [
        "nota = float(input(' Qual nota você recebeu na disciplina? '))\n",
        "print('Você tirou nota {}' .format(nota))"
      ],
      "metadata": {
        "colab": {
          "base_uri": "https://localhost:8080/"
        },
        "id": "olxIYRogSzqK",
        "outputId": "44a726aa-cc1e-4e35-dc43-94e0e88dbe5e"
      },
      "execution_count": null,
      "outputs": [
        {
          "output_type": "stream",
          "name": "stdout",
          "text": [
            " Qual nota você recebeu na disciplina? 7\n",
            "Você tirou nota 7.0\n"
          ]
        }
      ]
    },
    {
      "cell_type": "markdown",
      "source": [
        "**Exercício**"
      ],
      "metadata": {
        "id": "SsEbaAbzTXht"
      }
    },
    {
      "cell_type": "markdown",
      "source": [
        "*Escreva dois números inteiros e leia a soma desses números:*"
      ],
      "metadata": {
        "id": "I-9azgqPWunf"
      }
    },
    {
      "cell_type": "code",
      "source": [
        "## Exercício feito por mim ##\n",
        "\n",
        "n1 = int(input('Digite o primeiro número: '))\n",
        "n2 = int(input('Digite o segundo número: '))\n",
        "print(' A soma desses números é: {}' .format(n1 + n2))"
      ],
      "metadata": {
        "colab": {
          "base_uri": "https://localhost:8080/"
        },
        "id": "AuPFHdJ7Tcvc",
        "outputId": "67b014f3-b395-4ef6-ce1e-79051603c1c1"
      },
      "execution_count": null,
      "outputs": [
        {
          "output_type": "stream",
          "name": "stdout",
          "text": [
            "Digite o primeiro número: 8\n",
            "Digite o segundo número: 7\n",
            " A soma desses números é: 15\n"
          ]
        }
      ]
    },
    {
      "cell_type": "code",
      "source": [
        "## Exercício do professor ##\n",
        "## Exercício 2.1 ##\n",
        "x = int(input('Digite um número inteiro: '))\n",
        "y = int(input('Digite outro número inteiro: '))\n",
        "#Maneira clássica \n",
        "res = 'O resultado da soma de %i e %i é %i.' % (x, y, x + y)\n",
        "#Maneira Moderna\n",
        "res = 'O resultado da sima de {} e {} é {}' .format(x, y, x + y)\n",
        "print(res)"
      ],
      "metadata": {
        "colab": {
          "base_uri": "https://localhost:8080/"
        },
        "id": "R0D2ic9aT_e7",
        "outputId": "fb8d1eef-9909-4087-ebe1-8a9696499fa3"
      },
      "execution_count": null,
      "outputs": [
        {
          "output_type": "stream",
          "name": "stdout",
          "text": [
            "Digite um número inteiro: 5\n",
            "Digite outro número inteiro: 5\n",
            "O resultado da sima de 5 e 5 é 10\n"
          ]
        }
      ]
    },
    {
      "cell_type": "markdown",
      "source": [
        "*Escreva o preço de um produto e o percentual de desconto e imprima o resultado na tela*"
      ],
      "metadata": {
        "id": "bkUvWW7bW0__"
      }
    },
    {
      "cell_type": "code",
      "source": [
        "preco = float(input('Digite o preço do produto: '))\n",
        "percentual = float(input('Digite o percentual de desconto: '))\n",
        "desconto = preco * (percentual / 100)\n",
        "preco_final = preco - desconto\n",
        "print(\"Valor do produto\", preco, \"valor de desconto é de:\", percentual,'%')\n",
        "print('Com o desconto de {}% aplicado o valor final fica: {}' .format(percentual, preco_final))\n",
        "\n"
      ],
      "metadata": {
        "colab": {
          "base_uri": "https://localhost:8080/"
        },
        "id": "FB4mSYjRXBLO",
        "outputId": "1febd3fa-7480-4ed5-e541-4b1606bddca5"
      },
      "execution_count": null,
      "outputs": [
        {
          "output_type": "stream",
          "name": "stdout",
          "text": [
            "Digite o preço do produto: 33\n",
            "Digite o percentual de desconto: 15\n",
            "Valor do produto 33.0 valor de desconto é de: 15.0 %\n",
            "Com o desconto de 15.0% aplicado o valor final fica: 28.05\n"
          ]
        }
      ]
    },
    {
      "cell_type": "markdown",
      "source": [
        "*Desenvolva um algoritmo que converta uma temperatura em Celsius (C) para Fahrenheit (F). A equação de conversão é:*\n",
        "\n",
        "![Equação.png](data:image/png;base64,iVBORw0KGgoAAAANSUhEUgAAAQsAAABkCAYAAACRgBVpAAAAAXNSR0IArs4c6QAAAARnQU1BAACxjwv8YQUAAAAJcEhZcwAADsMAAA7DAcdvqGQAAAWGSURBVHhe7d09cuJYFIbhw6wFOXCxArEC46Qjp2QihKQzh2QkcmhlTomcWFoBrIByYGkvmnPFbWMERoeehh7E+1SpGsQ1qhLo4/6qO6USAGjwj/8XAA4iLACYEBYATAgLACaEBQATwgKACWEBwISwAGBCWAAwISwAmBAWAEwICwAmhAUAE8ICgAlhAcCEsABgQlgAMCEsAJgQFgBMCAsAJoQFABPCAoAJYQHAhLAAYEJYADAhLACYEBYATAgLACaEBQATwgKACWEBwISwAGBCWAAwISwAmBAWAEwICwAmhAUAE8Ki1QrJRn3pdDp+68soK/xrp6THfRpJ//O4uvX78nSOQ+NkCIsWy0aBDFYPkpellLrlaU+SwfDwRZvpRT7K/JOa4klG+trha76Qp74edy7ymP86biSy9C/jcumHiTbK4zKUsIw1KTbyMg6lDLd31qzLSJT65171flLWd9dpLpQiUbldLC2jnX24NNQsrkpXbnr6I/+e++f7dGW8SCVaDTY1DK1R9IOJ9NJSnu/Wu/bSctNEoyJ9lu1id/Jc1vfh0hAWbdW9kZ7W/SezL82GIpPXlX98kF7cGhi9KjC06aFBIXF+OChU8TbXI0byg1RoJcKitfSCz+OqhhD4zs3+7ENu/avN9O9fYpFkIkmUymLc9fu/U8jbfKnVih/UIFqKsGiz7lhrCOtOxrJcyOL5Rt6r69lyOWe+RqGBk2gNo3EoI6/eO7wN/HO0DWFxRYqnqSRhLD8bs0KDoj+QlTY9FmMNHK2hyCRoGHYN5Db0D9FKhMVVcPMe+lJVFF7GcrhB4YY+NSgeXFD4klpDWWhgrAYuMNa7dvnO08lMPjOl0PcadQy1ElwCwqLlCg2JTmco0/cHSfOFNHY9ZDOZ9/b0UfjAkNenTYdpzd1zLnG0kkHgJ2IFgcxXkTzcNx0Ul6Djxk/9YwD4FjULACaExRmsmwK+al7baM9vc+fquHOyXv+yWYfi/r7esVJfq9KXEef9aITFGXTHLxK7kYIo9cOYbksl0l29G9rzv2+9DmV6+ygv/ry6bpXlZPClI9aXkR9bZZJqdMcXgQlhcRbrOQjb8xvcUGMoTEv4L9zU9FIW47vPEZ7u/YNsj+DuKTN+rIJ69UHt4hiExTlkr5LsTIN2X+JDoxPuF/FXtfnA1v9+dOLaFEUmo+FcemnD1PTiQ9ysd2p1xyEszqD4cF/NRAZfLvLmKvD6F3HTbPlmWzTNm7gC2ag6p0Ew0LPc09ra4TOSzSay1CZh01oX1OgXDidVXxaellEY697Tch/t/3Hb5pfD7ym3tZnPV+6XyNeX5m/kcViGZzj/bURYnJy7l0PzfSB2/ekL6TJUF/PB+200WZ/vfe9Rvbd+EATF76EZcmp7+yssaIb8UdpUGb4/you2Parz5e7RwXDIUQiLE8teE7cUUxj0OIV1J/DXeRnVYjkJt6eYu2CY3m6Cwu16mwtDUcchLE7ITTAaaFbIciIBv2In0JX7x1h68+Fnx3Ew70m8tQZGA2U4kaX7DHyZqtyEm4Iei7UhsNFq/EieTz6C4AJ2KC+7C9nw1xEW2OWGIqsq0bao6R6caDWaIfhGJOnXjlTdCIrrRlgAMCEsAJgQFtjjVkJJZPq5NoUl3aCDEwZFNpJgkNDBeeWoWaBR9+5ndT+O5JW5IteMsABgQligZs8U6mwmbsKj7T8nQlsRFthx86BtjnmwmRo9XUncdEMZtB4dnABMqFkAMCEsAJgQFgBMCAsAJoQFABPCAoAJYQHAhLAAYEJYADAhLACYEBYATAgLACaEBQATwgKACWEBwISwAGBCWAAwISwAmBAWAEwICwAmhAUAE8ICgAlhAcCEsABgQlgAMCEsAJgQFgBMCAsABiL/Ap7UYLAA2QhEAAAAAElFTkSuQmCC)"
      ],
      "metadata": {
        "id": "0UT4q5fLZP3x"
      }
    },
    {
      "cell_type": "code",
      "source": [
        "c = float(input('Digite uma temperatura em Celcius: '))\n",
        "f = (9 * c / 5) + 32\n",
        "print('Celcius: {}. Fahrenheit: {}.' .format(c, f))\n"
      ],
      "metadata": {
        "colab": {
          "base_uri": "https://localhost:8080/"
        },
        "id": "TX00bXLLZeuo",
        "outputId": "06008894-33c7-4cef-f47e-7b86a68c6bc2"
      },
      "execution_count": null,
      "outputs": [
        {
          "output_type": "stream",
          "name": "stdout",
          "text": [
            "Digite uma temperatura em Celcius: 28\n",
            "Celcius: 28.0. Fahrenheit: 82.4.\n"
          ]
        }
      ]
    }
  ]
}